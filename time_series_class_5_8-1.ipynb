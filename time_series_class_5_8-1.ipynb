{
 "cells": [
  {
   "cell_type": "markdown",
   "id": "d9f3ad7e-7223-4f21-8e14-4954920c2ef2",
   "metadata": {},
   "source": [
    "# [2차 프로그래밍 문제]\n",
    "* 제출날짜: 2024-05-16까지 ipynb 소스자료 업로드하기\n",
    "* cyber캠퍼스와 깃허브에 올리기\n",
    "* 실습에서 사용한 weather.csv 파일을 판다스를 이용하여 데이터프레임을 만들어 다음과 같이 처리한다."
   ]
  },
  {
   "cell_type": "markdown",
   "id": "915a736b-8cc2-45bf-85f1-1450c07cfdd6",
   "metadata": {},
   "source": [
    "## 1) 이 데이터셋의 앞 3개 행과 마지막 3개의 행을 화면에 출력하시오."
   ]
  },
  {
   "cell_type": "code",
   "execution_count": 2,
   "id": "ab98eb5d-f7eb-4f02-9baa-ef51a7b0eb91",
   "metadata": {},
   "outputs": [],
   "source": [
    "import numpy as np\n",
    "import pandas as pd\n",
    "import matplotlib.pyplot as plt\n",
    "import seaborn as sns\n",
    "plt.rcParams[\"font.family\"] = 'Malgun Gothic'"
   ]
  },
  {
   "cell_type": "code",
   "execution_count": 49,
   "id": "fbce41f0-707d-4d7c-ba3b-9478a05ae32c",
   "metadata": {},
   "outputs": [
    {
     "name": "stdout",
     "output_type": "stream",
     "text": [
      "            평균 기온  최대 풍속  평균 풍속\n",
      "일시                             \n",
      "2010-08-01   28.7    8.3    3.4\n",
      "2010-08-02   25.2    8.7    3.8\n",
      "2010-08-03   22.1    6.3    2.9\n",
      "            평균 기온  최대 풍속  평균 풍속\n",
      "일시                             \n",
      "2020-07-29   21.6    3.2    1.0\n",
      "2020-07-30   22.9    9.7    2.4\n",
      "2020-07-31   25.7    4.8    2.5\n"
     ]
    }
   ],
   "source": [
    "import numpy as np\n",
    "import pandas as pd\n",
    "import matplotlib.pyplot as plt\n",
    "import seaborn as sns\n",
    "\n",
    "weather = pd.read_csv(\"weather.csv\", index_col = 0)\n",
    "print(weather.head(3))\n",
    "print(weather.tail(3))"
   ]
  },
  {
   "cell_type": "markdown",
   "id": "288ee630-4983-45c7-a7ef-a63202c69c37",
   "metadata": {},
   "source": [
    "## 2) 2015년 6월 6일의 \"평균 기온\"과 \"풍속 정보\"를 출력하시오"
   ]
  },
  {
   "cell_type": "code",
   "execution_count": 48,
   "id": "0f3ad86e-bd24-4983-92b0-5f8e1bf315a9",
   "metadata": {},
   "outputs": [
    {
     "name": "stdout",
     "output_type": "stream",
     "text": [
      "평균 기온    16.6\n",
      "최대 풍속     4.4\n",
      "평균 풍속     1.9\n",
      "Name: 2015-06-06 00:00:00, dtype: float64\n"
     ]
    }
   ],
   "source": [
    "import numpy as np\n",
    "import pandas as pd\n",
    "import matplotlib.pyplot as plt\n",
    "import seaborn as sns\n",
    "\n",
    "weather = pd.read_csv(\"weather.csv\", index_col = 0)\n",
    "weather.reset_index(inplace=True)\n",
    "weather['일시'] = pd.to_datetime(weather['일시'])\n",
    "weather.set_index('일시', inplace=True)\n",
    "weather_day = weather.loc[\"2015-06-06\"]\n",
    "print(weather_day)"
   ]
  },
  {
   "cell_type": "markdown",
   "id": "9951fb22-29d8-46ba-8a85-fd6112c393e4",
   "metadata": {},
   "source": [
    "## 3) 가장 무더웠던 날짜을 추출해서 이 날의 기상 데이터을 출력하시오."
   ]
  },
  {
   "cell_type": "code",
   "execution_count": 52,
   "id": "93aae9ef-30d4-4a94-acb2-eba03a958580",
   "metadata": {},
   "outputs": [
    {
     "name": "stdout",
     "output_type": "stream",
     "text": [
      "평균 기온    31.3\n",
      "최대 풍속     7.8\n",
      "평균 풍속     4.6\n",
      "Name: 2013-08-08, dtype: float64\n"
     ]
    }
   ],
   "source": [
    "import numpy as np\n",
    "import pandas as pd\n",
    "import matplotlib.pyplot as plt\n",
    "import seaborn as sns\n",
    "\n",
    "weather = pd.read_csv(\"weather.csv\", index_col = 0)\n",
    "weather_hot = weather.loc[weather['평균 기온'].idxmax()]\n",
    "print(weather_hot)"
   ]
  },
  {
   "cell_type": "markdown",
   "id": "d6ab3c39-68c9-43b2-bc19-29723a8c24a8",
   "metadata": {},
   "source": [
    "## 4) \"평균 기온\"이 30도를 넘는 날짜들을 찾아, 이 날의 기상 데이터를 출력하시오."
   ]
  },
  {
   "cell_type": "code",
   "execution_count": 53,
   "id": "b4cf6ed2-8bfb-43a4-853b-8c11ba8ee534",
   "metadata": {},
   "outputs": [
    {
     "name": "stdout",
     "output_type": "stream",
     "text": [
      "            평균 기온  최대 풍속  평균 풍속\n",
      "일시                             \n",
      "2013-08-08   31.3    7.8    4.6\n",
      "2013-08-09   30.6    9.9    6.4\n",
      "2013-08-10   30.6    7.4    3.8\n",
      "2018-07-23   30.5    6.5    1.6\n",
      "2018-08-04   30.3    5.8    3.0\n"
     ]
    }
   ],
   "source": [
    "import numpy as np\n",
    "import pandas as pd\n",
    "import matplotlib.pyplot as plt\n",
    "import seaborn as sns\n",
    "\n",
    "weather = pd.read_csv(\"weather.csv\", index_col = 0)\n",
    "weather_hottest = weather[weather['평균 기온'] >= 30]\n",
    "print(weather_hottest)"
   ]
  },
  {
   "cell_type": "markdown",
   "id": "3abc8c0c-4d1b-4ed8-ab4e-418ad01868bd",
   "metadata": {},
   "source": [
    "## 5) 연도별 \"평균 기온\"의 평균에 대한 추이를 선 그래프로 그리시오."
   ]
  },
  {
   "cell_type": "code",
   "execution_count": 54,
   "id": "a02a3389-3ff5-4d57-b2d5-f4e8009594c0",
   "metadata": {},
   "outputs": [
    {
     "data": {
      "image/png": "[encoded data removed]",
      "text/plain": [
       "<Figure size 640x480 with 1 Axes>"
      ]
     },
     "metadata": {},
     "output_type": "display_data"
    }
   ],
   "source": [
    "import numpy as np\n",
    "import pandas as pd\n",
    "import matplotlib.pyplot as plt\n",
    "import seaborn as sns\n",
    "\n",
    "weather = pd.read_csv(\"weather.csv\", index_col = 0)\n",
    "weather.reset_index(inplace=True)\n",
    "weather_mean = weather['year'] = pd.DatetimeIndex(weather['일시']).year\n",
    "yearly_temp = weather.groupby('year')['평균 기온'].mean()\n",
    "years = np.arange(2010,2021)\n",
    "plt.plot(years, yearly_temp)\n",
    "plt.xlabel('연도')\n",
    "plt.ylabel('평균 기온')\n",
    "plt.title(\"연도별 평균 기온\")\n",
    "plt.show()"
   ]
  },
  {
   "cell_type": "markdown",
   "id": "e518cbbd-83c5-4938-98cf-646c089f20fa",
   "metadata": {},
   "source": [
    "## 6) 연도별 \"최대 풍속\"의 평균을 막대 그래프로 그리시오."
   ]
  },
  {
   "cell_type": "code",
   "execution_count": 55,
   "id": "d95f102a-bba1-4a68-8912-6500bc4e2f90",
   "metadata": {},
   "outputs": [
    {
     "data": {
      "image/png": "[encoded data removed]",
      "text/plain": [
       "<Figure size 640x480 with 1 Axes>"
      ]
     },
     "metadata": {},
     "output_type": "display_data"
    }
   ],
   "source": [
    "import numpy as np\n",
    "import pandas as pd\n",
    "import matplotlib.pyplot as plt\n",
    "import seaborn as sns\n",
    "\n",
    "weather = pd.read_csv(\"weather.csv\", index_col = 0)\n",
    "weather.reset_index(inplace=True)\n",
    "weather_mean = weather['year'] = pd.DatetimeIndex(weather['일시']).year\n",
    "yearly_temp = weather.groupby('year')['최대 풍속'].mean()\n",
    "years = np.arange(2010,2021)\n",
    "plt.bar(years, yearly_temp, color = \"red\")\n",
    "plt.xlabel('연도')\n",
    "plt.ylabel('최대 풍속')\n",
    "plt.title(\"연도별 최대 풍속\")\n",
    "plt.show()"
   ]
  },
  {
   "cell_type": "markdown",
   "id": "a514f8d0-2da0-40a8-881f-833149f00502",
   "metadata": {},
   "source": [
    "## 7) 연도별 \"평균 풍속\"의 합을 히스토그램 그래프로 그리시오"
   ]
  },
  {
   "cell_type": "code",
   "execution_count": 56,
   "id": "d82071ac-266d-43f5-af00-6e159814e4ff",
   "metadata": {},
   "outputs": [
    {
     "data": {
      "image/png": "[encoded data removed]",
      "text/plain": [
       "<Figure size 640x480 with 1 Axes>"
      ]
     },
     "metadata": {},
     "output_type": "display_data"
    }
   ],
   "source": [
    "import numpy as np\n",
    "import pandas as pd\n",
    "import matplotlib.pyplot as plt\n",
    "import seaborn as sns\n",
    "\n",
    "weather = pd.read_csv(\"weather.csv\", index_col = 0)\n",
    "weather.reset_index(inplace=True)\n",
    "weather_sum = weather['year'] = pd.DatetimeIndex(weather['일시']).year\n",
    "yearly_wind = weather.groupby('year')['평균 풍속'].sum()\n",
    "years = np.arange(2010,2021)\n",
    "plt.hist(yearly_wind, bins = 10, color=\"red\")\n",
    "plt.xlabel('빈도수')\n",
    "plt.ylabel('평균 풍속의 합')\n",
    "plt.title(\"연도별 평균 풍속의 합\")\n",
    "plt.show()"
   ]
  },
  {
   "cell_type": "markdown",
   "id": "d2da328e-6885-43d1-98f7-86eceb6e612a",
   "metadata": {},
   "source": [
    "## 8) 2015년과 2016년의 \"평균 기온\"의 평균을 비교하여 어느 해가 더 더웠는지 출력하시오."
   ]
  },
  {
   "cell_type": "code",
   "execution_count": 57,
   "id": "af5859ba-06bf-494e-8d0c-dc2e53e59141",
   "metadata": {},
   "outputs": [
    {
     "name": "stdout",
     "output_type": "stream",
     "text": [
      "2016\n"
     ]
    }
   ],
   "source": [
    "import numpy as np\n",
    "import pandas as pd\n",
    "import matplotlib.pyplot as plt\n",
    "import seaborn as sns\n",
    "\n",
    "weather = pd.read_csv(\"weather.csv\", index_col = 0)\n",
    "weather.reset_index(inplace=True)\n",
    "weather['year'] = pd.DatetimeIndex(weather['일시']).year\n",
    "weather_mean = weather.groupby(\"year\")['평균 기온'].mean()\n",
    "weather_mean_max = weather_mean.loc[[2015, 2016]]\n",
    "mean_max = weather_mean_max.idxmax()\n",
    "print(\"ej\", mean_max)"
   ]
  },
  {
   "cell_type": "markdown",
   "id": "5f5d1279-0f37-4da0-ae5d-cec1596f9b65",
   "metadata": {},
   "source": [
    "## 9) 월별 \"평균 기온\" 의 합이 가장 적은 달과 가장 많은 달을 출력하시오."
   ]
  },
  {
   "cell_type": "code",
   "execution_count": 66,
   "id": "bef76916-63f5-4ca0-985c-41eb54f8d9a5",
   "metadata": {},
   "outputs": [
    {
     "name": "stdout",
     "output_type": "stream",
     "text": [
      "평균 기온 의 합이 가장 많은 달은 :  평균 기온    8\n",
      "dtype: int32\n",
      "평균 기온 의 합이 가장 적은 달은 :  평균 기온    1\n",
      "dtype: int32\n"
     ]
    }
   ],
   "source": [
    "import numpy as np\n",
    "import pandas as pd\n",
    "import matplotlib.pyplot as plt\n",
    "import seaborn as sns\n",
    "\n",
    "weather = pd.read_csv(\"weather.csv\", index_col = 0)\n",
    "weather.reset_index(inplace=True)\n",
    "weather['month'] = pd.DatetimeIndex(weather['일시']).month\n",
    "weather_sum = weather.groupby('month')[['평균 기온']].sum()\n",
    "print(\"평균 기온 의 합이 가장 많은 달은 : \", weather_sum.idxmax())\n",
    "print(\"평균 기온 의 합이 가장 적은 달은 : \", weather_sum.idxmin())"
   ]
  },
  {
   "cell_type": "markdown",
   "id": "c5619b43-ace1-4a62-b3c3-2d87690c4165",
   "metadata": {},
   "source": [
    "## 10) 연도별 \"최대 풍속\"의 평균이 가장 큰 연도을 출력하시오."
   ]
  },
  {
   "cell_type": "code",
   "execution_count": 65,
   "id": "7aae1687-7147-4baf-921b-4f6e680c3f02",
   "metadata": {},
   "outputs": [
    {
     "name": "stdout",
     "output_type": "stream",
     "text": [
      "최대 풍속의 평균이 가장 큰 연도는 :  최대 풍속    2011\n",
      "dtype: int32\n"
     ]
    }
   ],
   "source": [
    "import numpy as np\n",
    "import pandas as pd\n",
    "import matplotlib.pyplot as plt\n",
    "import seaborn as sns\n",
    "\n",
    "weather = pd.read_csv(\"weather.csv\", index_col = 0)\n",
    "weather.reset_index(inplace=True)\n",
    "weather['year'] = pd.DatetimeIndex(weather['일시']).year\n",
    "weather_mean = weather.groupby('year')[['최대 풍속']].mean()\n",
    "print(\"최대 풍속의 평균이 가장 큰 연도는 : \", weather_mean.idxmax())"
   ]
  }
 ],
 "metadata": {
  "kernelspec": {
   "display_name": "Python 3 (ipykernel)",
   "language": "python",
   "name": "python3"
  },
  "language_info": {
   "codemirror_mode": {
    "name": "ipython",
    "version": 3
   },
   "file_extension": ".py",
   "mimetype": "text/x-python",
   "name": "python",
   "nbconvert_exporter": "python",
   "pygments_lexer": "ipython3",
   "version": "3.12.2"
  }
 },
 "nbformat": 4,
 "nbformat_minor": 5
}
